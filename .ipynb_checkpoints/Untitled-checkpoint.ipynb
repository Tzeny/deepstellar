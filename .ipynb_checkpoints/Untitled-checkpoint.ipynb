{
 "cells": [
  {
   "cell_type": "code",
   "execution_count": 62,
   "metadata": {
    "ExecuteTime": {
     "end_time": "2019-04-23T12:18:22.003645Z",
     "start_time": "2019-04-23T12:18:21.993763Z"
    }
   },
   "outputs": [],
   "source": [
    "import torch\n",
    "import numpy as np"
   ]
  },
  {
   "cell_type": "code",
   "execution_count": 2,
   "metadata": {
    "ExecuteTime": {
     "end_time": "2019-04-23T10:16:35.523581Z",
     "start_time": "2019-04-23T10:16:35.513687Z"
    }
   },
   "outputs": [],
   "source": [
    "t = torch.Tensor(6)"
   ]
  },
  {
   "cell_type": "code",
   "execution_count": 61,
   "metadata": {
    "ExecuteTime": {
     "end_time": "2019-04-23T10:24:33.917225Z",
     "start_time": "2019-04-23T10:24:33.910817Z"
    }
   },
   "outputs": [
    {
     "data": {
      "text/plain": [
       "tensor(-0.1529)"
      ]
     },
     "execution_count": 61,
     "metadata": {},
     "output_type": "execute_result"
    }
   ],
   "source": [
    "torch.distributions.Normal(t[0], 1).sample()"
   ]
  },
  {
   "cell_type": "code",
   "execution_count": 92,
   "metadata": {
    "ExecuteTime": {
     "end_time": "2019-04-23T12:39:39.416606Z",
     "start_time": "2019-04-23T12:39:39.409523Z"
    }
   },
   "outputs": [],
   "source": [
    "    dtypes = [\n",
    "        ('step', np.int32),\n",
    "        ('predicted_V', np.float32),\n",
    "        ('actual_V', np.float32),\n",
    "        ('error', np.float32),\n",
    "        ('action_id', np.int16),\n",
    "        ('reward', np.float32)\n",
    "    ]\n",
    "#     for i in range((500)):\n",
    "#         dtypes.append((f'action_{i}', np.int16))     \n",
    "\n",
    "#     for i in range((5)):\n",
    "#         dtypes.append((f'continous_{i}', np.float32))  \n",
    "\n",
    "#     for i in range((5)):\n",
    "#         dtypes.append((f'continous_chosen_{i}', np.float32)) \n",
    "\n",
    "    step_recordings = np.zeros((10, len(dtypes)), dtype=dtypes)"
   ]
  },
  {
   "cell_type": "code",
   "execution_count": 93,
   "metadata": {
    "ExecuteTime": {
     "end_time": "2019-04-23T12:39:39.745500Z",
     "start_time": "2019-04-23T12:39:39.735159Z"
    }
   },
   "outputs": [
    {
     "data": {
      "text/plain": [
       "array([[0, 0, 0, 0, 0, 0],\n",
       "       [0, 0, 0, 0, 0, 0],\n",
       "       [0, 0, 0, 0, 0, 0],\n",
       "       [0, 0, 0, 0, 0, 0],\n",
       "       [0, 0, 0, 0, 0, 0],\n",
       "       [0, 0, 0, 0, 0, 0],\n",
       "       [0, 0, 0, 0, 0, 0],\n",
       "       [0, 0, 0, 0, 0, 0],\n",
       "       [0, 0, 0, 0, 0, 0],\n",
       "       [0, 0, 0, 0, 0, 0]], dtype=int32)"
      ]
     },
     "execution_count": 93,
     "metadata": {},
     "output_type": "execute_result"
    }
   ],
   "source": [
    "step_recordings['step']"
   ]
  },
  {
   "cell_type": "code",
   "execution_count": 80,
   "metadata": {
    "ExecuteTime": {
     "end_time": "2019-04-23T12:33:50.288672Z",
     "start_time": "2019-04-23T12:33:50.282586Z"
    }
   },
   "outputs": [
    {
     "data": {
      "text/plain": [
       "(10, 6)"
      ]
     },
     "execution_count": 80,
     "metadata": {},
     "output_type": "execute_result"
    }
   ],
   "source": [
    "step_recordings['predicted_V'].shape"
   ]
  },
  {
   "cell_type": "code",
   "execution_count": 81,
   "metadata": {
    "ExecuteTime": {
     "end_time": "2019-04-23T12:33:50.555221Z",
     "start_time": "2019-04-23T12:33:50.544869Z"
    }
   },
   "outputs": [
    {
     "data": {
      "text/plain": [
       "dtype([('step', '<i4'), ('predicted_V', '<f4'), ('actual_V', '<f4'), ('error', '<f4'), ('action_id', '<i2'), ('reward', '<f4')])"
      ]
     },
     "execution_count": 81,
     "metadata": {},
     "output_type": "execute_result"
    }
   ],
   "source": [
    "step_recordings.dtype"
   ]
  },
  {
   "cell_type": "code",
   "execution_count": 83,
   "metadata": {
    "ExecuteTime": {
     "end_time": "2019-04-23T12:37:07.394741Z",
     "start_time": "2019-04-23T12:37:07.377715Z"
    }
   },
   "outputs": [
    {
     "data": {
      "text/plain": [
       "array([0, 0, 0],\n",
       "      dtype=(numpy.int32, [('r', 'u1'), ('g', 'u1'), ('b', 'u1'), ('a', 'u1')]))"
      ]
     },
     "execution_count": 83,
     "metadata": {},
     "output_type": "execute_result"
    }
   ],
   "source": [
    "x = np.zeros(3, dtype=('i4',[('r','u1'), ('g','u1'), ('b','u1'), ('a','u1')]))\n",
    "x"
   ]
  },
  {
   "cell_type": "code",
   "execution_count": 86,
   "metadata": {
    "ExecuteTime": {
     "end_time": "2019-04-23T12:37:42.011546Z",
     "start_time": "2019-04-23T12:37:41.993778Z"
    }
   },
   "outputs": [
    {
     "data": {
      "text/plain": [
       "array([(0., 0., [[0., 0.], [0., 0.]]), (0., 0., [[0., 0.], [0., 0.]]),\n",
       "       (0., 0., [[0., 0.], [0., 0.]])],\n",
       "      dtype=[('x', '<f4'), ('y', '<f4'), ('value', '<f4', (2, 2))])"
      ]
     },
     "execution_count": 86,
     "metadata": {},
     "output_type": "execute_result"
    }
   ],
   "source": [
    "x = np.zeros(3, dtype=[('x','f4'),('y',np.float32),('value','f4',(2,2))])\n",
    "x"
   ]
  },
  {
   "cell_type": "code",
   "execution_count": null,
   "metadata": {},
   "outputs": [],
   "source": []
  }
 ],
 "metadata": {
  "kernelspec": {
   "display_name": "fastai",
   "language": "python",
   "name": "fastai"
  },
  "language_info": {
   "codemirror_mode": {
    "name": "ipython",
    "version": 3
   },
   "file_extension": ".py",
   "mimetype": "text/x-python",
   "name": "python",
   "nbconvert_exporter": "python",
   "pygments_lexer": "ipython3",
   "version": "3.6.6"
  },
  "toc": {
   "base_numbering": 1,
   "nav_menu": {},
   "number_sections": true,
   "sideBar": true,
   "skip_h1_title": false,
   "title_cell": "Table of Contents",
   "title_sidebar": "Contents",
   "toc_cell": false,
   "toc_position": {},
   "toc_section_display": true,
   "toc_window_display": false
  }
 },
 "nbformat": 4,
 "nbformat_minor": 2
}
